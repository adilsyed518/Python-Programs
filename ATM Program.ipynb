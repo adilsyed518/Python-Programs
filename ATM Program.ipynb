{
 "cells": [
  {
   "cell_type": "code",
   "execution_count": 3,
   "id": "146a9512-ab3a-4dd9-83c7-e6db36e35bad",
   "metadata": {},
   "outputs": [
    {
     "name": "stdin",
     "output_type": "stream",
     "text": [
      "Withdraw:  400\n"
     ]
    },
    {
     "name": "stdout",
     "output_type": "stream",
     "text": [
      "Available balance is 600\n"
     ]
    },
    {
     "name": "stdin",
     "output_type": "stream",
     "text": [
      "Withdraw:  800\n"
     ]
    },
    {
     "name": "stdout",
     "output_type": "stream",
     "text": [
      "Please wihdraw 600 or less\n"
     ]
    },
    {
     "name": "stdin",
     "output_type": "stream",
     "text": [
      "Withdraw:  1\n"
     ]
    },
    {
     "name": "stdout",
     "output_type": "stream",
     "text": [
      "Available balance is 599\n"
     ]
    },
    {
     "name": "stdin",
     "output_type": "stream",
     "text": [
      "Withdraw:  600\n"
     ]
    },
    {
     "name": "stdout",
     "output_type": "stream",
     "text": [
      "Please wihdraw 599 or less\n"
     ]
    },
    {
     "name": "stdin",
     "output_type": "stream",
     "text": [
      "Withdraw:  598\n"
     ]
    },
    {
     "name": "stdout",
     "output_type": "stream",
     "text": [
      "Available balance is 1\n"
     ]
    },
    {
     "name": "stdin",
     "output_type": "stream",
     "text": [
      "Withdraw:  100\n"
     ]
    },
    {
     "name": "stdout",
     "output_type": "stream",
     "text": [
      "Please wihdraw 1 or less\n"
     ]
    },
    {
     "name": "stdin",
     "output_type": "stream",
     "text": [
      "Withdraw:  2\n"
     ]
    },
    {
     "name": "stdout",
     "output_type": "stream",
     "text": [
      "Please wihdraw 1 or less\n"
     ]
    },
    {
     "name": "stdin",
     "output_type": "stream",
     "text": [
      "Withdraw:  1\n"
     ]
    }
   ],
   "source": [
    "#If atm has Rs. 1000/- then this program allows user to withdraw amount.\n",
    "#Currently in ATM, if amount entered is more than the amount atm has, transaction ends.\n",
    "#But this program allows user to continue the transaction until they enter the correct amount which is less than or equal to balance amount\n",
    "atm=1000\n",
    "while atm>=0:\n",
    "    txn=int(input(\"Withdraw: \"))\n",
    "    if txn>atm:\n",
    "        print(f\"Please wihdraw {atm} or less\")\n",
    "    elif txn<atm:\n",
    "        atm=atm-txn\n",
    "        print(f\"Available balance is {atm}\")\n",
    "    else:\n",
    "        break"
   ]
  },
  {
   "cell_type": "code",
   "execution_count": null,
   "id": "14f43e35-f520-4e61-9400-2ad783e035dc",
   "metadata": {},
   "outputs": [],
   "source": []
  }
 ],
 "metadata": {
  "kernelspec": {
   "display_name": "Python 3 (ipykernel)",
   "language": "python",
   "name": "python3"
  },
  "language_info": {
   "codemirror_mode": {
    "name": "ipython",
    "version": 3
   },
   "file_extension": ".py",
   "mimetype": "text/x-python",
   "name": "python",
   "nbconvert_exporter": "python",
   "pygments_lexer": "ipython3",
   "version": "3.10.8"
  }
 },
 "nbformat": 4,
 "nbformat_minor": 5
}
