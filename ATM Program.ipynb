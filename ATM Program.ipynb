{
 "cells": [
  {
   "cell_type": "code",
   "execution_count": null,
   "id": "3b4670a4-48e2-4589-9c8c-b3d232a656e4",
   "metadata": {},
   "outputs": [],
   "source": [
    "#If atm has Rs. 1000/- then this program allows user to withdraw amount.\n",
    "#Currently in ATM, if amount entered is more than the amount atm has, transaction ends.\n",
    "#But this program allows user to continue the transaction until they enter the correct amount which is less than or equal to balance amount\n",
    "atm=1000\n",
    "while atm>=0:\n",
    "    txn=int(input(\"Withdraw: \"))\n",
    "    if txn>atm:\n",
    "        print(f\"Please wihdraw {atm} or less\")\n",
    "    elif txn<atm:\n",
    "        atm=atm-txn\n",
    "        print(f\"Available balance is {atm}\")\n",
    "    else:\n",
    "        break"
   ]
  },
  {
   "cell_type": "code",
   "execution_count": null,
   "id": "8652d232-9afa-4f18-b730-37b97aeb7c57",
   "metadata": {},
   "outputs": [],
   "source": []
  }
 ],
 "metadata": {
  "kernelspec": {
   "display_name": "Python 3 (ipykernel)",
   "language": "python",
   "name": "python3"
  },
  "language_info": {
   "codemirror_mode": {
    "name": "ipython",
    "version": 3
   },
   "file_extension": ".py",
   "mimetype": "text/x-python",
   "name": "python",
   "nbconvert_exporter": "python",
   "pygments_lexer": "ipython3",
   "version": "3.10.8"
  }
 },
 "nbformat": 4,
 "nbformat_minor": 5
}
