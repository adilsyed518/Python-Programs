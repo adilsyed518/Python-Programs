{
 "cells": [
  {
   "cell_type": "markdown",
   "id": "36b2f6d9-459a-4945-901c-a43dbe079ad4",
   "metadata": {},
   "source": [
    "Q1. What are the characteristics of the tuples? Is tuple immutable?\n",
    "      \n",
    "      Ans: Tuples are denoted with (). Tuples can contain any data type including tuples inside\n",
    "                it.Tuples are immutable."
   ]
  },
  {
   "cell_type": "markdown",
   "id": "e37e01d0-ae67-47c4-95ff-c7d2b8140365",
   "metadata": {},
   "source": [
    "Q2. What are the two tuple methods in python? Give an example of each method. Give a\n",
    "        reason why tuples have only two in-built methods as compared to Lists.\n",
    "       \n",
    "       Ans: Tuples have 2 methods called as .count() and .index()"
   ]
  },
  {
   "cell_type": "code",
   "execution_count": 8,
   "id": "cd86add7-44c9-4ef2-bcc5-4b5a7cc68506",
   "metadata": {},
   "outputs": [
    {
     "name": "stdout",
     "output_type": "stream",
     "text": [
      "1\n",
      "1\n"
     ]
    }
   ],
   "source": [
    "t1=(1,2,3,4)\n",
    "print(t1.count(1))\n",
    "print(t1.index(2))"
   ]
  },
  {
   "cell_type": "markdown",
   "id": "043995c4-6bc9-4cf2-be25-5de3e13b7cff",
   "metadata": {},
   "source": [
    "Q3. Which collection datatypes in python do not allow duplicate items? Write a code using a set\n",
    "      to remove duplicates from the given list.\n",
    "      List = [1, 1, 1, 2, 1, 3, 1, 4, 2, 1, 2, 2, 2, 3, 2, 4, 3, 1, 3, 2, 3, 3, 3, 4, 4, 1, 4, 2, 4, 3, 4, 4]\n",
    "     \n",
    "     Ans: Set datatype doesnt allow duplicate items."
   ]
  },
  {
   "cell_type": "code",
   "execution_count": 9,
   "id": "c25d69b3-4198-45d7-ac4c-45e26e77419e",
   "metadata": {},
   "outputs": [
    {
     "data": {
      "text/plain": [
       "{1, 2, 3, 4}"
      ]
     },
     "execution_count": 9,
     "metadata": {},
     "output_type": "execute_result"
    }
   ],
   "source": [
    "List = [1, 1, 1, 2, 1, 3, 1, 4, 2, 1, 2, 2, 2, 3, 2, 4, 3, 1, 3, 2, 3, 3, 3, 4, 4, 1, 4, 2, 4, 3, 4, 4]\n",
    "set(List)"
   ]
  },
  {
   "cell_type": "markdown",
   "id": "b044e7f5-14be-4999-ae98-9a4567b87e51",
   "metadata": {},
   "source": [
    "Q4. Explain the difference between the union() and update() methods for a set. Give an example of each method.\n",
    "      \n",
    "      Ans: .union() will create a new set by merging contents of two sets and does not include duplicate items\n",
    "\n",
    "            .update() will Update a set with the union of itself and others and create a new set and  does not \n",
    "            include duplicate items"
   ]
  },
  {
   "cell_type": "code",
   "execution_count": 10,
   "id": "e30ae6e1-b41c-46ea-9004-89170697a515",
   "metadata": {},
   "outputs": [
    {
     "name": "stdout",
     "output_type": "stream",
     "text": [
      "{1, 2, 3, 4, 5, 6}\n",
      "140362288041088 140362288039520 140362288038848\n"
     ]
    }
   ],
   "source": [
    "s1={1,2,3,4}\n",
    "s2={3,4,5,6}\n",
    "s1.union(s2)\n",
    "print(s1.union(s2))\n",
    "print(id(s1),id(s2),id(s1.union(s2)))\n"
   ]
  },
  {
   "cell_type": "code",
   "execution_count": 11,
   "id": "106c8082-7aba-4e42-81e4-45689e71a085",
   "metadata": {},
   "outputs": [
    {
     "name": "stdout",
     "output_type": "stream",
     "text": [
      "{1, 2, 3, 4, 5, 6}\n",
      "140362288039296 140362288039968 140362288038400\n"
     ]
    }
   ],
   "source": [
    "set1={1,2,3,4}\n",
    "set2={3,4,5,6}\n",
    "set1.update(set2)\n",
    "print(set1)\n",
    "print(id(set1),id(set2),id(set1.union(set2)))\n"
   ]
  },
  {
   "cell_type": "markdown",
   "id": "9e08adc5-b0d0-4ee3-840b-2add9c91abcf",
   "metadata": {},
   "source": [
    "Q5. What is a dictionary? Give an example. Also, state whether a dictionary is ordered or Unordered.\n",
    "       \n",
    "    Ans: Dictionary is a collection of key value pairs\n",
    "\t\n",
    "\tDictionary is ordered.When we say that lists are ordered, it means that the items have a defined order, and that order will not change. If you add new items to a list, the new items will be placed at the end of the list.\n"
   ]
  },
  {
   "cell_type": "code",
   "execution_count": 14,
   "id": "a5f483a1-d74f-4b2e-9609-303f9e18344a",
   "metadata": {},
   "outputs": [],
   "source": [
    "d1={'abc':123}"
   ]
  },
  {
   "cell_type": "code",
   "execution_count": 15,
   "id": "1ff3d1b7-f56b-44ba-987b-b0b0498ce3cc",
   "metadata": {},
   "outputs": [
    {
     "data": {
      "text/plain": [
       "{'abc': 123}"
      ]
     },
     "execution_count": 15,
     "metadata": {},
     "output_type": "execute_result"
    }
   ],
   "source": [
    "d1"
   ]
  },
  {
   "cell_type": "markdown",
   "id": "f57a5e1f-3102-47c1-bd2a-30592e1b2ebd",
   "metadata": {},
   "source": [
    "Q6. Can we create a nested dictionary? If so, please give an example by creating a simple one-level nested dictionary.\n",
    "\t\n",
    "    Ans:\n",
    "\tWe can create a nested dictionary.\n"
   ]
  },
  {
   "cell_type": "code",
   "execution_count": 16,
   "id": "174ccf80-1510-482d-8fcc-a3a27119fd9f",
   "metadata": {},
   "outputs": [],
   "source": [
    "d2={'Key1':1, 'Key2':2 , 'major':{'Subkey3':3,}}"
   ]
  },
  {
   "cell_type": "code",
   "execution_count": 17,
   "id": "6b48db8d-06b7-4d55-b151-64295a87ad1d",
   "metadata": {},
   "outputs": [
    {
     "data": {
      "text/plain": [
       "{'Key1': 1, 'Key2': 2, 'major': {'Subkey3': 3}}"
      ]
     },
     "execution_count": 17,
     "metadata": {},
     "output_type": "execute_result"
    }
   ],
   "source": [
    "d2"
   ]
  },
  {
   "cell_type": "markdown",
   "id": "8fbc83d8-a8ce-4619-aaaf-c4587954bf4c",
   "metadata": {},
   "source": [
    "Q7. Using setdefault() method, create key named topics in the given dictionary and also add the value of the key as this list ['Python', 'Machine Learning’, 'Deep Learning']\n",
    "\tdict1 = {'language' : 'Python', 'course': 'Data Science Masters'}\n",
    "\n",
    "Ans:\n"
   ]
  },
  {
   "cell_type": "code",
   "execution_count": 19,
   "id": "80f33ae8-35dc-4026-935d-1c220f7957cd",
   "metadata": {},
   "outputs": [],
   "source": [
    "dict1 = {'language' : 'Python', 'course': 'Data Science Masters'}"
   ]
  },
  {
   "cell_type": "code",
   "execution_count": 20,
   "id": "891cb34a-33d6-434c-a58a-255e3154f1e0",
   "metadata": {},
   "outputs": [
    {
     "data": {
      "text/plain": [
       "{'language': 'Python', 'course': 'Data Science Masters'}"
      ]
     },
     "execution_count": 20,
     "metadata": {},
     "output_type": "execute_result"
    }
   ],
   "source": [
    "dict1"
   ]
  },
  {
   "cell_type": "code",
   "execution_count": 21,
   "id": "21cf5a57-55a4-4dcb-a8af-cbdaf9fbb17a",
   "metadata": {},
   "outputs": [
    {
     "data": {
      "text/plain": [
       "['Python', 'Machine Learning', 'Deep Leaning']"
      ]
     },
     "execution_count": 21,
     "metadata": {},
     "output_type": "execute_result"
    }
   ],
   "source": [
    "dict1.setdefault('topics', ['Python', 'Machine Learning' , 'Deep Leaning'])"
   ]
  },
  {
   "cell_type": "code",
   "execution_count": 22,
   "id": "48653040-ef27-4ff5-82b1-49e5bdeefa7d",
   "metadata": {},
   "outputs": [
    {
     "data": {
      "text/plain": [
       "{'language': 'Python',\n",
       " 'course': 'Data Science Masters',\n",
       " 'topics': ['Python', 'Machine Learning', 'Deep Leaning']}"
      ]
     },
     "execution_count": 22,
     "metadata": {},
     "output_type": "execute_result"
    }
   ],
   "source": [
    "dict1"
   ]
  },
  {
   "cell_type": "markdown",
   "id": "de2082e2-3bc3-4a0a-ac77-fc658b54331c",
   "metadata": {},
   "source": [
    "Q8. What are the three view objects in dictionaries? Use the three in-built methods in python to display these three view objects for the given dictionary.\n",
    "dict1 = {'Sport': 'Cricket' , 'Teams': ['India', 'Australia', 'England', 'South Africa', 'Sri Lanka','New Zealand']}\n",
    "\n",
    "Ans: \n"
   ]
  },
  {
   "cell_type": "code",
   "execution_count": 23,
   "id": "66fb5143-0ff8-4fac-aaca-255ea52cda74",
   "metadata": {},
   "outputs": [],
   "source": [
    "dict1 = {'Sport': 'Cricket' , 'Teams': ['India', 'Australia', 'England', 'South Africa', 'Sri Lanka','New Zealand']}"
   ]
  },
  {
   "cell_type": "code",
   "execution_count": 24,
   "id": "1f58f401-6de6-4e37-9dad-0f35b8d6113b",
   "metadata": {},
   "outputs": [
    {
     "data": {
      "text/plain": [
       "{'Sport': 'Cricket',\n",
       " 'Teams': ['India',\n",
       "  'Australia',\n",
       "  'England',\n",
       "  'South Africa',\n",
       "  'Sri Lanka',\n",
       "  'New Zealand']}"
      ]
     },
     "execution_count": 24,
     "metadata": {},
     "output_type": "execute_result"
    }
   ],
   "source": [
    "dict1"
   ]
  },
  {
   "cell_type": "code",
   "execution_count": 25,
   "id": "f76dd615-2b93-48fa-b57d-01da773c9813",
   "metadata": {},
   "outputs": [
    {
     "data": {
      "text/plain": [
       "dict_keys(['Sport', 'Teams'])"
      ]
     },
     "execution_count": 25,
     "metadata": {},
     "output_type": "execute_result"
    }
   ],
   "source": [
    "dict1.keys()"
   ]
  },
  {
   "cell_type": "code",
   "execution_count": 26,
   "id": "8877c4b2-93d4-4f74-a9db-393a42c7c865",
   "metadata": {},
   "outputs": [
    {
     "data": {
      "text/plain": [
       "dict_values(['Cricket', ['India', 'Australia', 'England', 'South Africa', 'Sri Lanka', 'New Zealand']])"
      ]
     },
     "execution_count": 26,
     "metadata": {},
     "output_type": "execute_result"
    }
   ],
   "source": [
    "dict1.values()"
   ]
  },
  {
   "cell_type": "code",
   "execution_count": 27,
   "id": "277b34bf-4060-41c5-8880-9cbb675544c8",
   "metadata": {},
   "outputs": [
    {
     "data": {
      "text/plain": [
       "dict_items([('Sport', 'Cricket'), ('Teams', ['India', 'Australia', 'England', 'South Africa', 'Sri Lanka', 'New Zealand'])])"
      ]
     },
     "execution_count": 27,
     "metadata": {},
     "output_type": "execute_result"
    }
   ],
   "source": [
    "dict1.items()"
   ]
  },
  {
   "cell_type": "code",
   "execution_count": null,
   "id": "80fdabeb-4522-480b-a371-fe4775d2bbda",
   "metadata": {},
   "outputs": [],
   "source": []
  }
 ],
 "metadata": {
  "kernelspec": {
   "display_name": "Python 3 (ipykernel)",
   "language": "python",
   "name": "python3"
  },
  "language_info": {
   "codemirror_mode": {
    "name": "ipython",
    "version": 3
   },
   "file_extension": ".py",
   "mimetype": "text/x-python",
   "name": "python",
   "nbconvert_exporter": "python",
   "pygments_lexer": "ipython3",
   "version": "3.10.8"
  }
 },
 "nbformat": 4,
 "nbformat_minor": 5
}
