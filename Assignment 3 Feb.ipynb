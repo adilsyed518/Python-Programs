{
 "cells": [
  {
   "cell_type": "markdown",
   "id": "a00c2a3e-b8a2-48bf-ae41-f19458fcbb01",
   "metadata": {},
   "source": [
    "Q1. Which keyword is used to create a function? Create a function to return a list of odd numbers in the\n",
    "range of 1 to 25."
   ]
  },
  {
   "cell_type": "markdown",
   "id": "1892f324-03f6-4d3c-8528-454503c20ca6",
   "metadata": {},
   "source": [
    "Ans:\n",
    "\n",
    "def keyword is used to create a function"
   ]
  },
  {
   "cell_type": "code",
   "execution_count": 9,
   "id": "969dbcfe-d93d-4798-9f41-a08fe83fb345",
   "metadata": {},
   "outputs": [],
   "source": [
    "def odd_num(n):\n",
    "    a=1\n",
    "    for i in range(1,n+1):\n",
    "        if i%2!=0:\n",
    "            yield i "
   ]
  },
  {
   "cell_type": "code",
   "execution_count": 10,
   "id": "4fddb531-8fa2-4e85-9702-83a23327ed46",
   "metadata": {},
   "outputs": [
    {
     "data": {
      "text/plain": [
       "<generator object odd_num at 0x7f08ffafda10>"
      ]
     },
     "execution_count": 10,
     "metadata": {},
     "output_type": "execute_result"
    }
   ],
   "source": [
    "odd_num(25)"
   ]
  },
  {
   "cell_type": "code",
   "execution_count": 11,
   "id": "8045d636-a574-413d-b4d1-914e6836695b",
   "metadata": {},
   "outputs": [
    {
     "name": "stdout",
     "output_type": "stream",
     "text": [
      "1\n",
      "3\n",
      "5\n",
      "7\n",
      "9\n",
      "11\n",
      "13\n",
      "15\n",
      "17\n",
      "19\n",
      "21\n",
      "23\n",
      "25\n"
     ]
    }
   ],
   "source": [
    "for i in odd_num(25):\n",
    "    print(i)"
   ]
  },
  {
   "cell_type": "markdown",
   "id": "b663e551-0e94-4ebd-ac7d-ae9b75d7726d",
   "metadata": {},
   "source": [
    "Q2. Why *args and **kwargs is used in some functions? Create a function each for *args and **kwargs to\n",
    "demonstrate their use.\n",
    "\n",
    "Ans:"
   ]
  },
  {
   "cell_type": "markdown",
   "id": "8b6314b3-0da6-4ecc-ab9e-8b0c612cd35f",
   "metadata": {},
   "source": [
    "*args is used to pass any number of parameters as input of function during runtime.\n",
    "\n",
    "**kwargs is used to pass any number of key value pair as arguments during runtime"
   ]
  },
  {
   "cell_type": "code",
   "execution_count": 12,
   "id": "e9f0f9bb-94ba-4c81-a7e8-d044991e667b",
   "metadata": {},
   "outputs": [],
   "source": [
    "def f1(*args):\n",
    "    return args"
   ]
  },
  {
   "cell_type": "code",
   "execution_count": 13,
   "id": "fdd0bcdf-e087-4b89-a78d-10c765497046",
   "metadata": {},
   "outputs": [
    {
     "data": {
      "text/plain": [
       "(1,\n",
       " 2,\n",
       " 3,\n",
       " [4, 5, 6, 'adil'],\n",
       " 'syed',\n",
       " (11, 12, 'hello'),\n",
       " {'course': 'pwskills', 'batch': 1})"
      ]
     },
     "execution_count": 13,
     "metadata": {},
     "output_type": "execute_result"
    }
   ],
   "source": [
    "f1(1,2,3,[4,5,6,'adil'],'syed',(11,12,'hello'),{'course':'pwskills','batch': 1})"
   ]
  },
  {
   "cell_type": "code",
   "execution_count": 23,
   "id": "969349ab-8f36-4541-9d53-21e482970672",
   "metadata": {},
   "outputs": [],
   "source": [
    "def f2(**kwargs):\n",
    "    return kwargs"
   ]
  },
  {
   "cell_type": "code",
   "execution_count": 24,
   "id": "9dd35d04-0764-4389-a18d-5e284fecb144",
   "metadata": {},
   "outputs": [
    {
     "data": {
      "text/plain": [
       "dict"
      ]
     },
     "execution_count": 24,
     "metadata": {},
     "output_type": "execute_result"
    }
   ],
   "source": [
    "type(f2())"
   ]
  },
  {
   "cell_type": "code",
   "execution_count": 27,
   "id": "c314b87d-ea77-421e-9fe1-8d7b7dbf9a17",
   "metadata": {},
   "outputs": [
    {
     "data": {
      "text/plain": [
       "{'a': 'adil', 'b': ['s', 'y', 4, 5]}"
      ]
     },
     "execution_count": 27,
     "metadata": {},
     "output_type": "execute_result"
    }
   ],
   "source": [
    "f2(a='adil',b=['s','y',4,5])"
   ]
  },
  {
   "cell_type": "markdown",
   "id": "e918047d-977d-4e4b-944d-51f27afc641a",
   "metadata": {},
   "source": [
    "Q3. What is an iterator in python? Name the method used to initialise the iterator object and the method\n",
    "used for iteration. Use these methods to print the first five elements of the given list [2, 4, 6, 8, 10, 12, 14, 16,\n",
    "18, 20].\n",
    "\n",
    "Ans:"
   ]
  },
  {
   "cell_type": "markdown",
   "id": "77c3ce03-2a0a-4560-95c7-7e37a66b193b",
   "metadata": {},
   "source": [
    "Iterator is used to go to every element in the collection of elements to test the condition that is supposed to be checked. We can use for loop to iterate."
   ]
  },
  {
   "cell_type": "code",
   "execution_count": 31,
   "id": "8028b906-4f00-4a73-ad89-401d6d2f45b1",
   "metadata": {},
   "outputs": [],
   "source": [
    "l=[2, 4, 6, 8, 10, 12, 14, 16, 18, 20]"
   ]
  },
  {
   "cell_type": "code",
   "execution_count": 43,
   "id": "427424a4-64f3-4031-81d4-9097a99f93e3",
   "metadata": {},
   "outputs": [
    {
     "name": "stdout",
     "output_type": "stream",
     "text": [
      "2\n",
      "4\n",
      "6\n",
      "8\n",
      "10\n"
     ]
    }
   ],
   "source": [
    "j=0\n",
    "while j<5:\n",
    "    print(l[j])\n",
    "    j+=1"
   ]
  },
  {
   "cell_type": "markdown",
   "id": "11e8af35-eb75-4062-9d3b-60b3ab0779f6",
   "metadata": {},
   "source": [
    "Q4. What is a generator function in python? Why yield keyword is used? Give an example of a generator\n",
    "function.\n",
    "\n",
    "Ans:"
   ]
  },
  {
   "cell_type": "markdown",
   "id": "0b478084-ec9d-4789-9b92-a6f729ed946c",
   "metadata": {},
   "source": [
    "Generator function will generate the values in sequence and will not store entire data to display. it will display the value and forget it to display new value. This saves memory.\n",
    "\n",
    "yield keyword is used to generate the value everytime the function is iterated"
   ]
  },
  {
   "cell_type": "code",
   "execution_count": 44,
   "id": "6eca7f9d-8773-48dd-93fd-0a3eaebf659e",
   "metadata": {},
   "outputs": [],
   "source": [
    "#this is a range function which includes end value i.e. it will print b as well\n",
    "def rng(a,b):\n",
    "    while a<=b:\n",
    "        yield a\n",
    "        a+=1"
   ]
  },
  {
   "cell_type": "code",
   "execution_count": 45,
   "id": "32d2fece-53e0-4dc0-ab3c-a33cef28752d",
   "metadata": {},
   "outputs": [
    {
     "data": {
      "text/plain": [
       "<generator object rng at 0x7f08e5a33d10>"
      ]
     },
     "execution_count": 45,
     "metadata": {},
     "output_type": "execute_result"
    }
   ],
   "source": [
    "rng(0,6)"
   ]
  },
  {
   "cell_type": "code",
   "execution_count": 46,
   "id": "8e710a1e-b00b-4747-a56a-3a9ccd2c10cb",
   "metadata": {},
   "outputs": [
    {
     "name": "stdout",
     "output_type": "stream",
     "text": [
      "0\n",
      "1\n",
      "2\n",
      "3\n",
      "4\n",
      "5\n",
      "6\n"
     ]
    }
   ],
   "source": [
    "for i in rng(0,6):\n",
    "    print(i)"
   ]
  },
  {
   "cell_type": "markdown",
   "id": "3fdab81d-2102-425f-afd0-ec524f09587b",
   "metadata": {},
   "source": [
    "Q5. Create a generator function for prime numbers less than 1000. Use the next() method to print the\n",
    "first 20 prime numbers.\n",
    "\n",
    "Ans:"
   ]
  },
  {
   "cell_type": "code",
   "execution_count": 57,
   "id": "a99764af-a362-4744-903f-72d94c69615f",
   "metadata": {},
   "outputs": [],
   "source": [
    "def prm(a,b):\n",
    "    for i in range(a,b+1):\n",
    "        isprime=True\n",
    "        if i==0 or i==1:\n",
    "            isprime=False\n",
    "        for num in range(2,i):\n",
    "            if i%num==0:\n",
    "                isprime=False\n",
    "                break\n",
    "        if isprime:\n",
    "            yield i"
   ]
  },
  {
   "cell_type": "code",
   "execution_count": 58,
   "id": "965c39c4-0db4-45ce-b363-bc9cdacbcd08",
   "metadata": {},
   "outputs": [
    {
     "data": {
      "text/plain": [
       "<generator object prm at 0x7f08cfb91620>"
      ]
     },
     "execution_count": 58,
     "metadata": {},
     "output_type": "execute_result"
    }
   ],
   "source": [
    "prm(0,10)"
   ]
  },
  {
   "cell_type": "code",
   "execution_count": 68,
   "id": "42252011-2237-4472-95eb-d81450bad31b",
   "metadata": {},
   "outputs": [
    {
     "name": "stdout",
     "output_type": "stream",
     "text": [
      "2 3 5 7 11 13 17 19 23 29 31 37 41 43 47 53 59 61 67 71 73 79 83 89 97 101 103 107 109 113 127 131 137 139 149 151 157 163 167 173 179 181 191 193 197 199 211 223 227 229 233 239 241 251 257 263 269 271 277 281 283 293 307 311 313 317 331 337 347 349 353 359 367 373 379 383 389 397 401 409 419 421 431 433 439 443 449 457 461 463 467 479 487 491 499 503 509 521 523 541 547 557 563 569 571 577 587 593 599 601 607 613 617 619 631 641 643 647 653 659 661 673 677 683 691 701 709 719 727 733 739 743 751 757 761 769 773 787 797 809 811 821 823 827 829 839 853 857 859 863 877 881 883 887 907 911 919 929 937 941 947 953 967 971 977 983 991 997 \n",
      " 168 numbers\n"
     ]
    }
   ],
   "source": [
    "count=0\n",
    "for i in prm(0,1000):\n",
    "    print(i, end=' ')\n",
    "    count+=1\n",
    "print('\\n',count, 'numbers')    \n"
   ]
  },
  {
   "cell_type": "code",
   "execution_count": 88,
   "id": "6c8e61e1-ec3d-4518-9dd8-0e259f6990af",
   "metadata": {},
   "outputs": [],
   "source": [
    "def prm1(a,b):\n",
    "    for i in range(a,b+1):\n",
    "        isprime=True\n",
    "        if i==0 or i==1:\n",
    "            isprime=False\n",
    "        for num in range(2,int(i**0.5)+1):\n",
    "            if i%num==0:\n",
    "                isprime=False\n",
    "                break\n",
    "        if isprime:\n",
    "            yield i"
   ]
  },
  {
   "cell_type": "code",
   "execution_count": 89,
   "id": "99c7fc67-eff9-4d13-87e2-4561bfba32ec",
   "metadata": {},
   "outputs": [
    {
     "data": {
      "text/plain": [
       "<generator object prm1 at 0x7f08cfb92a40>"
      ]
     },
     "execution_count": 89,
     "metadata": {},
     "output_type": "execute_result"
    }
   ],
   "source": [
    "prm1(0,1000)"
   ]
  },
  {
   "cell_type": "code",
   "execution_count": 91,
   "id": "e5069b22-f59e-466f-8ba1-aa0d8f56146b",
   "metadata": {},
   "outputs": [
    {
     "name": "stdout",
     "output_type": "stream",
     "text": [
      "2 3 5 7 11 13 17 19 23 29 31 37 41 43 47 53 59 61 67 71 73 79 83 89 97 101 103 107 109 113 127 131 137 139 149 151 157 163 167 173 179 181 191 193 197 199 211 223 227 229 233 239 241 251 257 263 269 271 277 281 283 293 307 311 313 317 331 337 347 349 353 359 367 373 379 383 389 397 401 409 419 421 431 433 439 443 449 457 461 463 467 479 487 491 499 503 509 521 523 541 547 557 563 569 571 577 587 593 599 601 607 613 617 619 631 641 643 647 653 659 661 673 677 683 691 701 709 719 727 733 739 743 751 757 761 769 773 787 797 809 811 821 823 827 829 839 853 857 859 863 877 881 883 887 907 911 919 929 937 941 947 953 967 971 977 983 991 997 \n",
      " 168  numbers\n"
     ]
    }
   ],
   "source": [
    "count=0\n",
    "for i in prm1(2,1000):\n",
    "    print(i,end=' ')\n",
    "    count+=1\n",
    "print('\\n', count, ' numbers')"
   ]
  },
  {
   "cell_type": "code",
   "execution_count": 113,
   "id": "b5c3f2f0-6f14-4094-b44a-f834e2b05cba",
   "metadata": {},
   "outputs": [
    {
     "name": "stdout",
     "output_type": "stream",
     "text": [
      "<generator object prm at 0x7f08cfb92dc0>\n"
     ]
    }
   ],
   "source": [
    "x=prm(2,100)\n",
    "n=int(input('How many primes you want to display? '))\n",
    "count=0\n",
    "while count<n:\n",
    "    print(x)\n",
    "    "
   ]
  },
  {
   "cell_type": "code",
   "execution_count": null,
   "id": "72079916-440a-4c5b-a7b5-3d6d9593db4a",
   "metadata": {},
   "outputs": [],
   "source": []
  }
 ],
 "metadata": {
  "kernelspec": {
   "display_name": "Python 3 (ipykernel)",
   "language": "python",
   "name": "python3"
  },
  "language_info": {
   "codemirror_mode": {
    "name": "ipython",
    "version": 3
   },
   "file_extension": ".py",
   "mimetype": "text/x-python",
   "name": "python",
   "nbconvert_exporter": "python",
   "pygments_lexer": "ipython3",
   "version": "3.10.8"
  }
 },
 "nbformat": 4,
 "nbformat_minor": 5
}
